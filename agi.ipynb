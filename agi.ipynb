{
 "cells": [
  {
   "cell_type": "code",
   "execution_count": 1,
   "id": "e5af9981-f8be-439a-b097-e07ee843592f",
   "metadata": {},
   "outputs": [
    {
     "name": "stderr",
     "output_type": "stream",
     "text": [
      "Cloning into 'data/repos'...\n",
      "fatal: could not read Username for 'https://github.com': No such device or address\n",
      "Cloning into 'data/repos'...\n",
      "fatal: could not read Username for 'https://github.com': No such device or address\n"
     ]
    }
   ],
   "source": [
    "import requests\n",
    "import os\n",
    "\n",
    "def clone_repo(repo_url, destination):\n",
    "    os.system(f\"git clone {repo_url} {destination}\")\n",
    "\n",
    "# Пример использования\n",
    "repo_urls = [\"https://github.com/user/repo1.git\", \"https://github.com/user/repo2.git\"]\n",
    "for url in repo_urls:\n",
    "    clone_repo(url, \"data/repos\")"
   ]
  },
  {
   "cell_type": "code",
   "execution_count": null,
   "id": "08a13392-c68e-4d3d-87b7-ac47e2e13122",
   "metadata": {},
   "outputs": [],
   "source": []
  }
 ],
 "metadata": {
  "kernelspec": {
   "display_name": "Python 3 (ipykernel)",
   "language": "python",
   "name": "python3"
  },
  "language_info": {
   "codemirror_mode": {
    "name": "ipython",
    "version": 3
   },
   "file_extension": ".py",
   "mimetype": "text/x-python",
   "name": "python",
   "nbconvert_exporter": "python",
   "pygments_lexer": "ipython3",
   "version": "3.8.19"
  }
 },
 "nbformat": 4,
 "nbformat_minor": 5
}
